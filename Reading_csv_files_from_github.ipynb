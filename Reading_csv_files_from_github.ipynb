{
 "cells": [
  {
   "cell_type": "markdown",
   "metadata": {},
   "source": [
    "# How to read csv files from github account and store it in a dataframe"
   ]
  },
  {
   "cell_type": "code",
   "execution_count": null,
   "metadata": {},
   "outputs": [],
   "source": [
    "import pandas as pd\n",
    "import requests\n",
    "import io\n",
    "\n",
    "# Username of your GitHub account\n",
    "\n",
    "username = <<your github username>>\n",
    "\n",
    "# Personal Access Token (PAO) from your GitHub account\n",
    "\n",
    "token = <<PAO token>>\n",
    "\n",
    "# Creates a re-usable session object with your creds in-built\n",
    "\n",
    "github_session = requests.Session()\n",
    "github_session.auth = (username, token)\n",
    "    \n",
    "# Downloading the csv file from Github\n",
    "# url should be the raw version of file on GitHub\n",
    "\n",
    "url = <<github url>> \n",
    "download = github_session.get(url).content\n",
    "\n",
    "# Reading the downloaded content and storing it a pandas dataframe\n",
    "\n",
    "df = pd.read_csv(io.StringIO(download.decode('utf-8')))\n",
    "\n",
    "# Printing out the first 5 rows of the dataframe to make sure everything is good\n",
    "df.head()"
   ]
  },
  {
   "cell_type": "markdown",
   "metadata": {},
   "source": [
    "To generate a PAO, click on your github profile section and then navigate as below: \n",
    "\n",
    "Settings → Developer Settings → Personal Access Token → click on “Generate new token”\n",
    "\n",
    "Choose ‘repo’ as scope of token which gives token the ability to access private repositories."
   ]
  }
 ],
 "metadata": {
  "kernelspec": {
   "display_name": "Python 3",
   "language": "python",
   "name": "python3"
  },
  "language_info": {
   "codemirror_mode": {
    "name": "ipython",
    "version": 3
   },
   "file_extension": ".py",
   "mimetype": "text/x-python",
   "name": "python",
   "nbconvert_exporter": "python",
   "pygments_lexer": "ipython3",
   "version": "3.7.6"
  }
 },
 "nbformat": 4,
 "nbformat_minor": 4
}
